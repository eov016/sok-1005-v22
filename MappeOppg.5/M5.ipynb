{
 "cells": [
  {
   "cell_type": "code",
   "execution_count": 1,
   "id": "af300deb-e6e5-4a4e-9bf2-6fbb6fe419e6",
   "metadata": {},
   "outputs": [
    {
     "name": "stderr",
     "output_type": "stream",
     "text": [
      "/usr/local/Miniconda3-py39_4.10.3-Linux-x86_64/lib/python3.9/site-packages/statsmodels/compat/pandas.py:65: FutureWarning: pandas.Int64Index is deprecated and will be removed from pandas in a future version. Use pandas.Index with the appropriate dtype instead.\n",
      "  from pandas import Int64Index as NumericIndex\n"
     ]
    }
   ],
   "source": [
    "from bs4 import BeautifulSoup\n",
    "import requests\n",
    "import pandas as pd\n",
    "import numpy as np\n",
    "import matplotlib.pyplot as plt\n",
    "from statsmodels.regression.linear_model import OLS\n",
    "\n"
   ]
  },
  {
   "cell_type": "code",
   "execution_count": 2,
   "id": "4ccc1dc5-7687-44a7-9eb0-4d07690920cb",
   "metadata": {},
   "outputs": [
    {
     "name": "stdout",
     "output_type": "stream",
     "text": [
      "<table class=\"years\">\n",
      "<th>Religion</th>\n",
      "<th>Number of followers</th>\n",
      "<th>Percentage of <br/>total population</th>\n",
      "<tr><td>Christianity</td><td>2,516,609,196</td><td>31.7 %</td></tr><tr><td>Islam</td><td>1,976,694,115</td><td>24.9 %</td></tr><tr><td>Religiously Unaffiliated</td><td>1,214,708,370</td><td>15.3 %</td></tr><tr><td>Hinduism</td><td>1,183,523,834</td><td>14.9 %</td></tr><tr><td>Buddhism</td><td>525,985,785</td><td>6.6 %</td></tr><tr><td>Folk or traditional religions</td><td>448,142,399</td><td>5.6 %</td></tr><tr><td>Other</td><td>67,365,837</td><td>0.8 %</td></tr><tr><td>Judaism</td><td>15,088,985</td><td>0.2 %</td></tr>\n",
      "</table>\n"
     ]
    }
   ],
   "source": [
    "\n",
    "# Når det kommer til scraping, har jeg her \n",
    "# valgt å bruke metode fra notebooks kap.9 av Espen S.\n",
    "\n",
    "def fetch_html_tables(url):\n",
    "    \"Returnerer en liste av tabellene i html'en av url\"\n",
    "    page = requests.get(url)\n",
    "    bs=BeautifulSoup(page.content)\n",
    "    tables=bs.find_all('table')\n",
    "    return tables\n",
    "\n",
    "tables=fetch_html_tables('https://countrymeters.info/en/World')\n",
    "table_html=tables[5] #Her valgte jeg den ønskede tabellen fra siden\n",
    "\n",
    "print(str(table_html)[:1000])"
   ]
  },
  {
   "cell_type": "code",
   "execution_count": 3,
   "id": "44902e32-bcb9-4f4a-aeb1-51ee21a03828",
   "metadata": {},
   "outputs": [
    {
     "name": "stdout",
     "output_type": "stream",
     "text": [
      "[['Christianity', '2516609196', '31.7 '], ['Islam', '1976694115', '24.9 '], ['Religiously Unaffiliated', '1214708370', '15.3 '], ['Hinduism', '1183523834', '14.9 '], ['Buddhism', '525985785', '6.6 '], ['Folk or traditional religions', '448142399', '5.6 '], ['Other', '67365837', '0.8 '], ['Judaism', '15088985', '0.2 ']]\n"
     ]
    }
   ],
   "source": [
    "def html_to_table(html):\n",
    "    \"Returnerer tabellen definert i html som en list\"\n",
    "    #definerer \"table\":\n",
    "    table=[]\n",
    "    #iterasjon av alle \"rows\"\n",
    "    for row in html.find_all('tr'):\n",
    "        r=[]\n",
    "        #finner alle cellene i hver \"row\":\n",
    "        cells=row.find_all('td')\n",
    "        \n",
    "        #Om ingen celler blir funnet, se etter \"headings\"\n",
    "        if len(cells)==0:\n",
    "            cells=row.find_all('th')\n",
    "            \n",
    "        #iterasjon av celler:\n",
    "        for cell in cells:\n",
    "            cell=format(cell)\n",
    "            r.append(cell)\n",
    "        \n",
    "        #(append) legge til \"row\" til table:\n",
    "        table.append(r)\n",
    "    return table\n",
    "\n",
    "def format(cell):\n",
    "    \"Returnerer en string etter konvertering  av bs4 object cell til ren text\"\n",
    "    if cell.content is None:\n",
    "        s=cell.text\n",
    "    elif len(cell.content)==0:\n",
    "        return ''\n",
    "    else:\n",
    "        s=' '.join([str(c) for c in cell.content])\n",
    "        \n",
    "    #I tillegg til ting som allerede skulle fjernes \n",
    "    # i denne funksjonen, la jeg til noen flere. \n",
    "    \n",
    "    s=s.replace('\\xa0','')\n",
    "    s=s.replace('\\n','')\n",
    "    s=s.replace('%','')\n",
    "    s=s.replace(\",\",\"\")\n",
    "    return s\n",
    "\n",
    "table=html_to_table(table_html)\n",
    "\n",
    "print(str(table)[:1000])"
   ]
  },
  {
   "cell_type": "code",
   "execution_count": 4,
   "id": "1390e8dd-876f-4601-8926-213cc2fe367a",
   "metadata": {},
   "outputs": [],
   "source": [
    "\n",
    "#Her lagrer jeg data gjennom en funksjon hentet fra notebooks kap.9\n",
    "\n",
    "def save_data(file_name,table):\n",
    "    \"Saves table to file_name\"\n",
    "    f=open(file_name,'w')\n",
    "    for row in table:\n",
    "        f.write(';'.join(row)+'\\n')\n",
    "    f.close()\n",
    "    \n",
    "save_data('FolkogReligion.csv',table)"
   ]
  },
  {
   "cell_type": "code",
   "execution_count": 5,
   "id": "7ad73b02-a93e-48f5-9952-7ac88219f469",
   "metadata": {},
   "outputs": [
    {
     "data": {
      "text/html": [
       "<div>\n",
       "<style scoped>\n",
       "    .dataframe tbody tr th:only-of-type {\n",
       "        vertical-align: middle;\n",
       "    }\n",
       "\n",
       "    .dataframe tbody tr th {\n",
       "        vertical-align: top;\n",
       "    }\n",
       "\n",
       "    .dataframe thead th {\n",
       "        text-align: right;\n",
       "    }\n",
       "</style>\n",
       "<table border=\"1\" class=\"dataframe\">\n",
       "  <thead>\n",
       "    <tr style=\"text-align: right;\">\n",
       "      <th></th>\n",
       "      <th>0</th>\n",
       "      <th>1</th>\n",
       "      <th>2</th>\n",
       "    </tr>\n",
       "  </thead>\n",
       "  <tbody>\n",
       "    <tr>\n",
       "      <th>0</th>\n",
       "      <td>Christianity</td>\n",
       "      <td>2516609196</td>\n",
       "      <td>31.7</td>\n",
       "    </tr>\n",
       "    <tr>\n",
       "      <th>1</th>\n",
       "      <td>Islam</td>\n",
       "      <td>1976694115</td>\n",
       "      <td>24.9</td>\n",
       "    </tr>\n",
       "    <tr>\n",
       "      <th>2</th>\n",
       "      <td>Religiously Unaffiliated</td>\n",
       "      <td>1214708370</td>\n",
       "      <td>15.3</td>\n",
       "    </tr>\n",
       "    <tr>\n",
       "      <th>3</th>\n",
       "      <td>Hinduism</td>\n",
       "      <td>1183523834</td>\n",
       "      <td>14.9</td>\n",
       "    </tr>\n",
       "    <tr>\n",
       "      <th>4</th>\n",
       "      <td>Buddhism</td>\n",
       "      <td>525985785</td>\n",
       "      <td>6.6</td>\n",
       "    </tr>\n",
       "    <tr>\n",
       "      <th>5</th>\n",
       "      <td>Folk or traditional religions</td>\n",
       "      <td>448142399</td>\n",
       "      <td>5.6</td>\n",
       "    </tr>\n",
       "    <tr>\n",
       "      <th>6</th>\n",
       "      <td>Other</td>\n",
       "      <td>67365837</td>\n",
       "      <td>0.8</td>\n",
       "    </tr>\n",
       "    <tr>\n",
       "      <th>7</th>\n",
       "      <td>Judaism</td>\n",
       "      <td>15088985</td>\n",
       "      <td>0.2</td>\n",
       "    </tr>\n",
       "  </tbody>\n",
       "</table>\n",
       "</div>"
      ],
      "text/plain": [
       "                               0           1     2\n",
       "0                   Christianity  2516609196  31.7\n",
       "1                          Islam  1976694115  24.9\n",
       "2       Religiously Unaffiliated  1214708370  15.3\n",
       "3                       Hinduism  1183523834  14.9\n",
       "4                       Buddhism   525985785   6.6\n",
       "5  Folk or traditional religions   448142399   5.6\n",
       "6                          Other    67365837   0.8\n",
       "7                        Judaism    15088985   0.2"
      ]
     },
     "execution_count": 5,
     "metadata": {},
     "output_type": "execute_result"
    }
   ],
   "source": [
    "\n",
    "#Bruker pandas til å lese csv, legger til delimiter, encoding og header.\n",
    "\n",
    "FolkogReligion=pd.read_csv('FolkogReligion.csv', delimiter=';', encoding='latin1', header = None)\n",
    "FolkogReligion = pd.DataFrame(FolkogReligion)\n",
    "FolkogReligion"
   ]
  },
  {
   "cell_type": "code",
   "execution_count": null,
   "id": "09829486-8e0f-477c-a672-2840b2452323",
   "metadata": {},
   "outputs": [],
   "source": []
  },
  {
   "cell_type": "code",
   "execution_count": 6,
   "id": "2c82fada-0be0-4e5f-b6c5-9b0d3392c109",
   "metadata": {},
   "outputs": [
    {
     "data": {
      "text/html": [
       "<div>\n",
       "<style scoped>\n",
       "    .dataframe tbody tr th:only-of-type {\n",
       "        vertical-align: middle;\n",
       "    }\n",
       "\n",
       "    .dataframe tbody tr th {\n",
       "        vertical-align: top;\n",
       "    }\n",
       "\n",
       "    .dataframe thead th {\n",
       "        text-align: right;\n",
       "    }\n",
       "</style>\n",
       "<table border=\"1\" class=\"dataframe\">\n",
       "  <thead>\n",
       "    <tr style=\"text-align: right;\">\n",
       "      <th></th>\n",
       "      <th>Religion</th>\n",
       "      <th>AntallFølgere</th>\n",
       "      <th>TotAvPopulasjonPros</th>\n",
       "    </tr>\n",
       "  </thead>\n",
       "  <tbody>\n",
       "    <tr>\n",
       "      <th>0</th>\n",
       "      <td>Christianity</td>\n",
       "      <td>2516609196</td>\n",
       "      <td>31.7</td>\n",
       "    </tr>\n",
       "    <tr>\n",
       "      <th>1</th>\n",
       "      <td>Islam</td>\n",
       "      <td>1976694115</td>\n",
       "      <td>24.9</td>\n",
       "    </tr>\n",
       "    <tr>\n",
       "      <th>2</th>\n",
       "      <td>Religiously Unaffiliated</td>\n",
       "      <td>1214708370</td>\n",
       "      <td>15.3</td>\n",
       "    </tr>\n",
       "    <tr>\n",
       "      <th>3</th>\n",
       "      <td>Hinduism</td>\n",
       "      <td>1183523834</td>\n",
       "      <td>14.9</td>\n",
       "    </tr>\n",
       "    <tr>\n",
       "      <th>4</th>\n",
       "      <td>Buddhism</td>\n",
       "      <td>525985785</td>\n",
       "      <td>6.6</td>\n",
       "    </tr>\n",
       "    <tr>\n",
       "      <th>5</th>\n",
       "      <td>Folk or traditional religions</td>\n",
       "      <td>448142399</td>\n",
       "      <td>5.6</td>\n",
       "    </tr>\n",
       "    <tr>\n",
       "      <th>6</th>\n",
       "      <td>Other</td>\n",
       "      <td>67365837</td>\n",
       "      <td>0.8</td>\n",
       "    </tr>\n",
       "    <tr>\n",
       "      <th>7</th>\n",
       "      <td>Judaism</td>\n",
       "      <td>15088985</td>\n",
       "      <td>0.2</td>\n",
       "    </tr>\n",
       "  </tbody>\n",
       "</table>\n",
       "</div>"
      ],
      "text/plain": [
       "                        Religion  AntallFølgere  TotAvPopulasjonPros\n",
       "0                   Christianity     2516609196                 31.7\n",
       "1                          Islam     1976694115                 24.9\n",
       "2       Religiously Unaffiliated     1214708370                 15.3\n",
       "3                       Hinduism     1183523834                 14.9\n",
       "4                       Buddhism      525985785                  6.6\n",
       "5  Folk or traditional religions      448142399                  5.6\n",
       "6                          Other       67365837                  0.8\n",
       "7                        Judaism       15088985                  0.2"
      ]
     },
     "execution_count": 6,
     "metadata": {},
     "output_type": "execute_result"
    }
   ],
   "source": [
    "\n",
    "#Gir ønsket navn til kolonnene\n",
    "\n",
    "FolkogReligion.columns = ['Religion','AntallFølgere','TotAvPopulasjonPros']\n",
    "FolkogReligion"
   ]
  },
  {
   "cell_type": "code",
   "execution_count": 7,
   "id": "d7938fe7-5d57-4b27-bf77-c65c9e9d6b85",
   "metadata": {},
   "outputs": [
    {
     "data": {
      "text/plain": [
       "Religion                object\n",
       "AntallFølgere          float64\n",
       "TotAvPopulasjonPros    float64\n",
       "dtype: object"
      ]
     },
     "execution_count": 7,
     "metadata": {},
     "output_type": "execute_result"
    }
   ],
   "source": [
    "\n",
    "#Konverterer en kolonne til fra object til float med tanke på plot\n",
    "#Sjekker dtypes\n",
    "\n",
    "FolkogReligion['AntallFølgere'] = FolkogReligion['AntallFølgere'].astype(float)\n",
    "FolkogReligion.dtypes"
   ]
  },
  {
   "cell_type": "code",
   "execution_count": 8,
   "id": "9ab7a21e-e0bd-4c98-b179-331e99d7de95",
   "metadata": {},
   "outputs": [
    {
     "data": {
      "text/html": [
       "<div>\n",
       "<style scoped>\n",
       "    .dataframe tbody tr th:only-of-type {\n",
       "        vertical-align: middle;\n",
       "    }\n",
       "\n",
       "    .dataframe tbody tr th {\n",
       "        vertical-align: top;\n",
       "    }\n",
       "\n",
       "    .dataframe thead th {\n",
       "        text-align: right;\n",
       "    }\n",
       "</style>\n",
       "<table border=\"1\" class=\"dataframe\">\n",
       "  <thead>\n",
       "    <tr style=\"text-align: right;\">\n",
       "      <th></th>\n",
       "      <th>Religion</th>\n",
       "      <th>AntallFølgere</th>\n",
       "      <th>TotAvPopulasjonPros</th>\n",
       "    </tr>\n",
       "  </thead>\n",
       "  <tbody>\n",
       "    <tr>\n",
       "      <th>0</th>\n",
       "      <td>Christianity</td>\n",
       "      <td>2.516609e+09</td>\n",
       "      <td>31.7</td>\n",
       "    </tr>\n",
       "    <tr>\n",
       "      <th>1</th>\n",
       "      <td>Islam</td>\n",
       "      <td>1.976694e+09</td>\n",
       "      <td>24.9</td>\n",
       "    </tr>\n",
       "    <tr>\n",
       "      <th>2</th>\n",
       "      <td>Religiously Unaffiliated</td>\n",
       "      <td>1.214708e+09</td>\n",
       "      <td>15.3</td>\n",
       "    </tr>\n",
       "    <tr>\n",
       "      <th>3</th>\n",
       "      <td>Hinduism</td>\n",
       "      <td>1.183524e+09</td>\n",
       "      <td>14.9</td>\n",
       "    </tr>\n",
       "    <tr>\n",
       "      <th>4</th>\n",
       "      <td>Buddhism</td>\n",
       "      <td>5.259858e+08</td>\n",
       "      <td>6.6</td>\n",
       "    </tr>\n",
       "  </tbody>\n",
       "</table>\n",
       "</div>"
      ],
      "text/plain": [
       "                   Religion  AntallFølgere  TotAvPopulasjonPros\n",
       "0              Christianity   2.516609e+09                 31.7\n",
       "1                     Islam   1.976694e+09                 24.9\n",
       "2  Religiously Unaffiliated   1.214708e+09                 15.3\n",
       "3                  Hinduism   1.183524e+09                 14.9\n",
       "4                  Buddhism   5.259858e+08                  6.6"
      ]
     },
     "execution_count": 8,
     "metadata": {},
     "output_type": "execute_result"
    }
   ],
   "source": [
    "FolkogReligion.head()"
   ]
  },
  {
   "cell_type": "code",
   "execution_count": 14,
   "id": "af94400c-6261-45f9-9845-e0d23b96c58f",
   "metadata": {},
   "outputs": [
    {
     "data": {
      "text/html": [
       "<div>\n",
       "<style scoped>\n",
       "    .dataframe tbody tr th:only-of-type {\n",
       "        vertical-align: middle;\n",
       "    }\n",
       "\n",
       "    .dataframe tbody tr th {\n",
       "        vertical-align: top;\n",
       "    }\n",
       "\n",
       "    .dataframe thead th {\n",
       "        text-align: right;\n",
       "    }\n",
       "</style>\n",
       "<table border=\"1\" class=\"dataframe\">\n",
       "  <thead>\n",
       "    <tr style=\"text-align: right;\">\n",
       "      <th></th>\n",
       "      <th>AntallFølgere</th>\n",
       "    </tr>\n",
       "  </thead>\n",
       "  <tbody>\n",
       "    <tr>\n",
       "      <th>0</th>\n",
       "      <td>2.516609e+09</td>\n",
       "    </tr>\n",
       "    <tr>\n",
       "      <th>1</th>\n",
       "      <td>1.976694e+09</td>\n",
       "    </tr>\n",
       "    <tr>\n",
       "      <th>2</th>\n",
       "      <td>1.214708e+09</td>\n",
       "    </tr>\n",
       "    <tr>\n",
       "      <th>3</th>\n",
       "      <td>1.183524e+09</td>\n",
       "    </tr>\n",
       "    <tr>\n",
       "      <th>4</th>\n",
       "      <td>5.259858e+08</td>\n",
       "    </tr>\n",
       "    <tr>\n",
       "      <th>5</th>\n",
       "      <td>4.481424e+08</td>\n",
       "    </tr>\n",
       "    <tr>\n",
       "      <th>6</th>\n",
       "      <td>6.736584e+07</td>\n",
       "    </tr>\n",
       "    <tr>\n",
       "      <th>7</th>\n",
       "      <td>1.508898e+07</td>\n",
       "    </tr>\n",
       "  </tbody>\n",
       "</table>\n",
       "</div>"
      ],
      "text/plain": [
       "   AntallFølgere\n",
       "0   2.516609e+09\n",
       "1   1.976694e+09\n",
       "2   1.214708e+09\n",
       "3   1.183524e+09\n",
       "4   5.259858e+08\n",
       "5   4.481424e+08\n",
       "6   6.736584e+07\n",
       "7   1.508898e+07"
      ]
     },
     "execution_count": 14,
     "metadata": {},
     "output_type": "execute_result"
    }
   ],
   "source": [
    "\n",
    "#Inspirasjon for framgangsmåte til regresjonsplot er hentet fra\n",
    "#notebooks kap.10\n",
    "\n",
    "y=FolkogReligion['AntallFølgere'] #Her lager jeg en df av ønsket y akse\n",
    "pd.DataFrame(y)"
   ]
  },
  {
   "cell_type": "code",
   "execution_count": 15,
   "id": "2f6d5c42-9cd4-4b37-ac75-b15f173f536a",
   "metadata": {},
   "outputs": [
    {
     "data": {
      "text/html": [
       "<div>\n",
       "<style scoped>\n",
       "    .dataframe tbody tr th:only-of-type {\n",
       "        vertical-align: middle;\n",
       "    }\n",
       "\n",
       "    .dataframe tbody tr th {\n",
       "        vertical-align: top;\n",
       "    }\n",
       "\n",
       "    .dataframe thead th {\n",
       "        text-align: right;\n",
       "    }\n",
       "</style>\n",
       "<table border=\"1\" class=\"dataframe\">\n",
       "  <thead>\n",
       "    <tr style=\"text-align: right;\">\n",
       "      <th></th>\n",
       "      <th>TotAvPopulasjonPros</th>\n",
       "      <th>intercept</th>\n",
       "    </tr>\n",
       "  </thead>\n",
       "  <tbody>\n",
       "    <tr>\n",
       "      <th>0</th>\n",
       "      <td>3.456317</td>\n",
       "      <td>1</td>\n",
       "    </tr>\n",
       "    <tr>\n",
       "      <th>1</th>\n",
       "      <td>3.214868</td>\n",
       "      <td>1</td>\n",
       "    </tr>\n",
       "    <tr>\n",
       "      <th>2</th>\n",
       "      <td>2.727853</td>\n",
       "      <td>1</td>\n",
       "    </tr>\n",
       "    <tr>\n",
       "      <th>3</th>\n",
       "      <td>2.701361</td>\n",
       "      <td>1</td>\n",
       "    </tr>\n",
       "    <tr>\n",
       "      <th>4</th>\n",
       "      <td>1.887070</td>\n",
       "      <td>1</td>\n",
       "    </tr>\n",
       "    <tr>\n",
       "      <th>5</th>\n",
       "      <td>1.722767</td>\n",
       "      <td>1</td>\n",
       "    </tr>\n",
       "    <tr>\n",
       "      <th>6</th>\n",
       "      <td>-0.223144</td>\n",
       "      <td>1</td>\n",
       "    </tr>\n",
       "    <tr>\n",
       "      <th>7</th>\n",
       "      <td>-1.609438</td>\n",
       "      <td>1</td>\n",
       "    </tr>\n",
       "  </tbody>\n",
       "</table>\n",
       "</div>"
      ],
      "text/plain": [
       "   TotAvPopulasjonPros  intercept\n",
       "0             3.456317          1\n",
       "1             3.214868          1\n",
       "2             2.727853          1\n",
       "3             2.701361          1\n",
       "4             1.887070          1\n",
       "5             1.722767          1\n",
       "6            -0.223144          1\n",
       "7            -1.609438          1"
      ]
     },
     "execution_count": 15,
     "metadata": {},
     "output_type": "execute_result"
    }
   ],
   "source": [
    "\n",
    "#Så lager jeg df av ønsket x akse, og sørger for å bruke np.log()\n",
    "#lager i tillegg en kolonne med \"intercept\" etter oppskrift fra notebooks\n",
    "#kap.10\n",
    "\n",
    "x=pd.DataFrame(np.log(FolkogReligion['TotAvPopulasjonPros']))\n",
    "x['intercept']=1\n",
    "x"
   ]
  },
  {
   "cell_type": "code",
   "execution_count": 16,
   "id": "f7f8a348-da4a-4321-8978-5f6ba7715574",
   "metadata": {},
   "outputs": [
    {
     "name": "stdout",
     "output_type": "stream",
     "text": [
      "                            OLS Regression Results                            \n",
      "==============================================================================\n",
      "Dep. Variable:          AntallFølgere   R-squared:                       0.716\n",
      "Model:                            OLS   Adj. R-squared:                  0.668\n",
      "Method:                 Least Squares   F-statistic:                     15.11\n",
      "Date:                Fri, 01 Apr 2022   Prob (F-statistic):            0.00810\n",
      "Time:                        19:42:42   Log-Likelihood:                -170.75\n",
      "No. Observations:                   8   AIC:                             345.5\n",
      "Df Residuals:                       6   BIC:                             345.7\n",
      "Df Model:                           1                                         \n",
      "Covariance Type:            nonrobust                                         \n",
      "=======================================================================================\n",
      "                          coef    std err          t      P>|t|      [0.025      0.975]\n",
      "---------------------------------------------------------------------------------------\n",
      "TotAvPopulasjonPros  4.296e+08   1.11e+08      3.888      0.008    1.59e+08       7e+08\n",
      "intercept            2.482e+08   2.66e+08      0.935      0.386   -4.02e+08    8.98e+08\n",
      "==============================================================================\n",
      "Omnibus:                        0.876   Durbin-Watson:                   0.675\n",
      "Prob(Omnibus):                  0.645   Jarque-Bera (JB):                0.654\n",
      "Skew:                           0.397   Prob(JB):                        0.721\n",
      "Kurtosis:                       1.845   Cond. No.                         3.81\n",
      "==============================================================================\n",
      "\n",
      "Notes:\n",
      "[1] Standard Errors assume that the covariance matrix of the errors is correctly specified.\n"
     ]
    },
    {
     "name": "stderr",
     "output_type": "stream",
     "text": [
      "/usr/local/Miniconda3-py39_4.10.3-Linux-x86_64/lib/python3.9/site-packages/scipy/stats/stats.py:1541: UserWarning: kurtosistest only valid for n>=20 ... continuing anyway, n=8\n",
      "  warnings.warn(\"kurtosistest only valid for n>=20 ... continuing \"\n"
     ]
    }
   ],
   "source": [
    "\n",
    "#Ved hjelp av statmodels.regression.linear_model samler jeg x og y\n",
    "#og oppsummerer regresjons resultatet\n",
    "\n",
    "res=OLS(y,x).fit()\n",
    "\n",
    "print(res.summary())"
   ]
  },
  {
   "cell_type": "code",
   "execution_count": 43,
   "id": "14ed526d-9f30-4f29-b3e4-495c4d10c63b",
   "metadata": {},
   "outputs": [
    {
     "name": "stderr",
     "output_type": "stream",
     "text": [
      "No artists with labels found to put in legend.  Note that artists whose label start with an underscore are ignored when legend() is called with no argument.\n"
     ]
    },
    {
     "data": {
      "text/plain": [
       "<matplotlib.legend.Legend at 0x7fb661b20ac0>"
      ]
     },
     "execution_count": 43,
     "metadata": {},
     "output_type": "execute_result"
    },
    {
     "data": {
      "image/png": "[encoded data removed]",
      "text/plain": [
       "<Figure size 432x288 with 1 Axes>"
      ]
     },
     "metadata": {
      "needs_background": "light"
     },
     "output_type": "display_data"
    }
   ],
   "source": [
    "fig,ax=plt.subplots()\n",
    "fig.suptitle('Regresjon Plot\\nReligionstilhørighet blandt Verdens befolkning',\n",
    "             fontsize = 12, fontweight ='bold', color = \"darkgray\")\n",
    "#legger til axis_lables:\n",
    "ax.set_ylabel('Antall Følgere (mrd)',\n",
    "              fontsize = 8, fontweight='bold', color = \"gray\")\n",
    "ax.set_xlabel('Verdens Befolkning i prosent',\n",
    "              fontsize = 8, fontweight='bold', color = \"gray\")\n",
    "#Farger til de forskjellige religioner\n",
    "\n",
    "#plotter funksjonen:\n",
    "ax.scatter(np.log(FolkogReligion['TotAvPopulasjonPros']), \n",
    "           FolkogReligion['AntallFølgere'], color = \"orchid\")\n",
    "ax.legend(loc='upper left', frameon=False)"
   ]
  },
  {
   "cell_type": "code",
   "execution_count": 39,
   "id": "8d77540d-2d3b-4348-befc-69233cc34c4c",
   "metadata": {},
   "outputs": [
    {
     "name": "stderr",
     "output_type": "stream",
     "text": [
      "/tmp/ipykernel_11448/98250526.py:9: UserWarning: FixedFormatter should only be used together with FixedLocator\n",
      "  ax.set_xticklabels(labels)\n",
      "/tmp/ipykernel_11448/98250526.py:12: UserWarning: FixedFormatter should only be used together with FixedLocator\n",
      "  ax.set_yticklabels(labels)\n"
     ]
    },
    {
     "data": {
      "image/png": "[encoded data removed]",
      "text/plain": [
       "<Figure size 432x288 with 1 Axes>"
      ]
     },
     "execution_count": 39,
     "metadata": {},
     "output_type": "execute_result"
    }
   ],
   "source": [
    "x=np.linspace(min(np.log(FolkogReligion['TotAvPopulasjonPros'])),\n",
    "              max(np.log(FolkogReligion['TotAvPopulasjonPros'])), 200)\n",
    "\n",
    "regresjons_linje=res.params['intercept']+res.params['TotAvPopulasjonPros']*x\n",
    "\n",
    "ax.plot(x, regresjons_linje,color='hotpink')\n",
    "labels = [item.get_text() for item in ax.get_xticklabels()]\n",
    "labels[1:5] = ['-10', '0','10','20','30']\n",
    "ax.set_xticklabels(labels)\n",
    "labels = [item.get_text() for item in ax.get_yticklabels()]\n",
    "labels[1:5] = ['-0.5', '0','0.5','1.0','1.5','2.0','2.5']\n",
    "ax.set_yticklabels(labels)\n",
    "\n",
    "plt.show()\n",
    "fig"
   ]
  },
  {
   "cell_type": "code",
   "execution_count": 42,
   "id": "2af3946d-31c4-4bb7-8fcd-57f7e0a81e6d",
   "metadata": {},
   "outputs": [
    {
     "data": {
      "text/plain": [
       "TotAvPopulasjonPros    4.296245e+08\n",
       "intercept              2.482423e+08\n",
       "dtype: float64"
      ]
     },
     "execution_count": 42,
     "metadata": {},
     "output_type": "execute_result"
    }
   ],
   "source": [
    "res.params"
   ]
  },
  {
   "cell_type": "markdown",
   "id": "758ae318-3b4b-4386-8a6c-75801712372e",
   "metadata": {},
   "source": [
    "Når tabellen omsider var på plass, ville jeg se på forholdet mellom Antall følgere av en religion mot verdens befolkning (%). Begynte med å  hente ut variabelen \"AntallFølgere\" og lagde en df av den kalt \"y\".\n",
    "Deretter tok jeg logaritmen av den ønskede variabelen for \"x\". Når jeg hentet ut denne kolonnen, sørget jeg for å brukt np.log, og \"intercept\". Med \"intercept\"=1. Parameter TotAvPopulasjonPros=4.296245e+08 vil antyde at regresjonslina vil være stigende da det er et positivt tall.\n",
    "Med bruk av OLS og .fit fra statmodels, la jeg x og y opp mot hverandre kalt res.\n",
    "Når plottet skulle lages sørget jeg for at regresjonslinja ble korrekt ved å bruke np.linspace og logaritmen av den minste og største verdien. \n",
    "Deretter tok jeg, intercept:2.482423e+08 + TotAvPopulasjonPros4:296245e+08 * x(np.linspace).\n",
    "Som på annen måte kan skrives som, a + b * ln(x)\n",
    "Når jeg ser på grafen, har den en stigende regresjonslinje. Den estimerer en linær gjennomsnittlig linje gjennom punktene. En rask tolkning er for eksempel at av verdenspopulasjonen er det mest sansynlig at du tilhører kristen tro. Ser man på plasseringen av punktene rundt regresjonslinja er det ingen forhold som tilsier at det er gitt at du vil tilhøre en kristen tro, og av dette er det nærliggende å anta at hvordan religion en er følgere av, er tilfeldig. En avgjørende og vesentlig variabel som da ville endret denne grafen er hvor en er født, og hvilke religioner er mest \"populære\" i dette området."
   ]
  },
  {
   "cell_type": "markdown",
   "id": "f122f1b4-cefe-4571-876c-af3a573c0e2f",
   "metadata": {},
   "source": [
    "OPPGAVE B)\n",
    "\n",
    "Min oppfatning av denne oppgaven, og fra hva vi har lært om blotto,\n",
    "var å fordele de 100 battalionene på 6 felter. Jeg har gjort nettopp dette, og med tanke på at du skulle lime min funksjon inn i en kamp på 100 000 omganger, har jeg ikke gjort noe mer enn å forsøke tenke sannsynlighet når jeg skrev inn mine tall. Spent på resultatet!"
   ]
  },
  {
   "cell_type": "code",
   "execution_count": null,
   "id": "4bbb8e22-01af-40c1-9c2d-f16ae5a32f9f",
   "metadata": {},
   "outputs": [],
   "source": [
    "def eov016_strategy(n_battalions,n_fields):\n",
    "    \n",
    "    battalions=np.zeros(n_fields,dtype=int)\n",
    "    \n",
    "    #Min plassering av battalioner:\n",
    "    battalions[0:]=0\n",
    "    battalions[1:]=31\n",
    "    battalions[2:]=7\n",
    "    battalions[3:]=0\n",
    "    battalions[4:]=31\n",
    "    battalions[5:]=31\n",
    "\n",
    "    \n",
    "    \n",
    "    battalions=battalions[np.random.rand(n_fields).argsort()]\n",
    "    assert sum(battalions)==n_battalions\n",
    "    \n",
    "    return battalions"
   ]
  }
 ],
 "metadata": {
  "kernelspec": {
   "display_name": "Python 3 (ipykernel)",
   "language": "python",
   "name": "python3"
  },
  "language_info": {
   "codemirror_mode": {
    "name": "ipython",
    "version": 3
   },
   "file_extension": ".py",
   "mimetype": "text/x-python",
   "name": "python",
   "nbconvert_exporter": "python",
   "pygments_lexer": "ipython3",
   "version": "3.9.9"
  }
 },
 "nbformat": 4,
 "nbformat_minor": 5
}
