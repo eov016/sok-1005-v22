{
 "cells": [
  {
   "cell_type": "markdown",
   "id": "28924781-de89-417d-8fa6-b74e97144322",
   "metadata": {},
   "source": [
    "OPPGAVE B)\n",
    "\n",
    "Min oppfatning av denne oppgaven, og fra hva vi har lært om blotto, var å fordele de 100 battalionene på 6 felter. Jeg har gjort nettopp dette, og med tanke på at du skulle lime min funksjon inn i en kamp på 100 000 omganger, har jeg ikke gjort noe mer enn å forsøke tenke sannsynlighet når jeg skrev inn mine tall. Spent på resultatet!"
   ]
  },
  {
   "cell_type": "code",
   "execution_count": null,
   "id": "b9d1410e-e522-4003-a026-6c6480916878",
   "metadata": {},
   "outputs": [],
   "source": [
    "#dette er en copy fra visual studio code der jeg jobbet med denne\n",
    "\n",
    "def eov016_strategy(n_battalions,n_fields):\n",
    "    \n",
    "    battalions=np.zeros(n_fields,dtype=int)\n",
    "    \n",
    "    #Min plassering av battalioner:\n",
    "    battalions[0:]=0\n",
    "    battalions[1:]=31\n",
    "    battalions[2:]=7\n",
    "    battalions[3:]=0\n",
    "    battalions[4:]=31\n",
    "    battalions[5:]=31\n",
    "\n",
    "    \n",
    "    \n",
    "    battalions=battalions[np.random.rand(n_fields).argsort()]\n",
    "    assert sum(battalions)==n_battalions\n",
    "    \n",
    "    return battalions"
   ]
  }
 ],
 "metadata": {
  "kernelspec": {
   "display_name": "Python 3 (ipykernel)",
   "language": "python",
   "name": "python3"
  },
  "language_info": {
   "codemirror_mode": {
    "name": "ipython",
    "version": 3
   },
   "file_extension": ".py",
   "mimetype": "text/x-python",
   "name": "python",
   "nbconvert_exporter": "python",
   "pygments_lexer": "ipython3",
   "version": "3.9.9"
  }
 },
 "nbformat": 4,
 "nbformat_minor": 5
}
